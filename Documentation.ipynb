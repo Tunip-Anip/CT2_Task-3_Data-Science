{
 "cells": [
  {
   "cell_type": "markdown",
   "id": "5c7768a1",
   "metadata": {},
   "source": [
    "\n",
    "<h1 align=\"center\" >Project Development</h1>\n"
   ]
  },
  {
   "cell_type": "markdown",
   "id": "1a96fbeb",
   "metadata": {},
   "source": [
    "<h2>Ideation<h2>\n"
   ]
  },
  {
   "cell_type": "markdown",
   "id": "f79748e4",
   "metadata": {},
   "source": [
    "![mindmap](Images/Untitled-2025-07-22-1212.png)"
   ]
  },
  {
   "cell_type": "markdown",
   "id": "640f8e09",
   "metadata": {},
   "source": [
    "<h2>Societal Problem</h2>"
   ]
  },
  {
   "cell_type": "markdown",
   "id": "7f711b20",
   "metadata": {},
   "source": [
    "<h3>  The Failing Economy:</h3>"
   ]
  },
  {
   "cell_type": "markdown",
   "id": "10dfd119",
   "metadata": {},
   "source": [
    "* Inflation among common objects is bad enough but the prices of general living has gone up to unpayable standards, this includes basics such as gasoline or other goods to larger problems within society such as housing prices or the price of food. This could be combatted with increase wages and salaries but the average salary has barely gone up from the past, causing many people to have unstable living conditions."
   ]
  },
  {
   "cell_type": "markdown",
   "id": "bdaa143a",
   "metadata": {},
   "source": [
    "<h3> Hypothesis: <h3>"
   ]
  },
  {
   "cell_type": "markdown",
   "id": "5dd61771",
   "metadata": {},
   "source": [
    "* Over time as inflation increases crime rates also increase with proportional records as the unstable jobs will make most turn to crime."
   ]
  }
 ],
 "metadata": {
  "language_info": {
   "name": "python"
  }
 },
 "nbformat": 4,
 "nbformat_minor": 5
}
