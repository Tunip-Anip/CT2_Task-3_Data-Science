{
 "cells": [
  {
   "cell_type": "markdown",
   "id": "5c7768a1",
   "metadata": {},
   "source": [
    "\n",
    "<h1 align=\"center\" >Project Development</h1>\n"
   ]
  },
  {
   "cell_type": "markdown",
   "id": "1a96fbeb",
   "metadata": {},
   "source": [
    "<h2>Ideation<h2>\n"
   ]
  },
  {
   "cell_type": "markdown",
   "id": "f79748e4",
   "metadata": {},
   "source": [
    "![mindmap](Images/Untitled-2025-07-22-1212.png)"
   ]
  },
  {
   "cell_type": "markdown",
   "id": "640f8e09",
   "metadata": {},
   "source": [
    "<h2>Societal Problem</h2>"
   ]
  },
  {
   "cell_type": "markdown",
   "id": "7f711b20",
   "metadata": {},
   "source": [
    "<h3>  The Failing Economy:</h3>"
   ]
  },
  {
   "cell_type": "markdown",
   "id": "10dfd119",
   "metadata": {},
   "source": [
    "* Inflation among common objects is bad enough but the prices of general living has gone up to unpayable standards, this includes basics such as gasoline or other goods to larger problems within society such as housing prices or the price of food. This could be combatted with increase wages and salaries but the average salary has barely gone up from the past, causing many people to have unstable living conditions."
   ]
  },
  {
   "cell_type": "markdown",
   "id": "bdaa143a",
   "metadata": {},
   "source": [
    "<h3> Hypothesis: <h3>"
   ]
  },
  {
   "cell_type": "markdown",
   "id": "5dd61771",
   "metadata": {},
   "source": [
    "* Over time as inflation increases crime rates also increase with proportional records as the unstable jobs will make most turn to crime."
   ]
  },
  {
   "cell_type": "markdown",
   "id": "a8d7dfac",
   "metadata": {},
   "source": [
    "<h2>Requirements Outline<h2>"
   ]
  },
  {
   "cell_type": "markdown",
   "id": "3a62c09f",
   "metadata": {},
   "source": [
    "* <h3>Functional Requirements<h3> <br>\n",
    "  <p1>a.Accurate data\n",
    "  b.Easy to understand data</p1>"
   ]
  },
  {
   "cell_type": "markdown",
   "id": "136459eb",
   "metadata": {},
   "source": [
    "* <h3>Functional Requirements<h3>"
   ]
  }
 ],
 "metadata": {
  "language_info": {
   "name": "python"
  }
 },
 "nbformat": 4,
 "nbformat_minor": 5
}
