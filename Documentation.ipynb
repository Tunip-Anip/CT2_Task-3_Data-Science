{
 "cells": [
  {
   "cell_type": "markdown",
   "id": "5c7768a1",
   "metadata": {},
   "source": [
    "\n",
    "<h1 align=\"center\" >Project Development</h1>\n"
   ]
  },
  {
   "cell_type": "markdown",
   "id": "1a96fbeb",
   "metadata": {},
   "source": [
    "<h2>Ideation<h2>\n"
   ]
  },
  {
   "cell_type": "markdown",
   "id": "f79748e4",
   "metadata": {},
   "source": [
    "![mindmap](Images/Untitled-2025-07-22-1212.png)"
   ]
  },
  {
   "cell_type": "markdown",
   "id": "640f8e09",
   "metadata": {},
   "source": [
    "<h2>Societal Problem</h2>"
   ]
  },
  {
   "cell_type": "markdown",
   "id": "7f711b20",
   "metadata": {},
   "source": [
    "<h3>  The Failing Economy:</h3>"
   ]
  },
  {
   "cell_type": "markdown",
   "id": "10dfd119",
   "metadata": {},
   "source": [
    "> In Australia - inflation among common objects is bad enough but the prices of general living has gone up to unpayable standards, this includes basics such as gasoline or other goods to larger problems within society such as housing prices or the price of food. This could be combated with increased wages and salaries but the average salary has barely gone up from the past, causing many people to have unstable living conditions."
   ]
  },
  {
   "cell_type": "markdown",
   "id": "bdaa143a",
   "metadata": {},
   "source": [
    "<h3> Hypothesis: <h3>"
   ]
  },
  {
   "cell_type": "markdown",
   "id": "5dd61771",
   "metadata": {},
   "source": [
    "* Over time as inflation increases in Australia crime rates also increase with proportional records as the unstable jobs will make most turn to crime."
   ]
  },
  {
   "cell_type": "markdown",
   "id": "ea562f22",
   "metadata": {},
   "source": [
    "---"
   ]
  },
  {
   "cell_type": "markdown",
   "id": "a8d7dfac",
   "metadata": {},
   "source": [
    "<h2>Requirements Outline<h2>"
   ]
  },
  {
   "cell_type": "markdown",
   "id": "3a62c09f",
   "metadata": {},
   "source": [
    "* <h3>Functional Requirements</h3>"
   ]
  },
  {
   "cell_type": "markdown",
   "id": "3d4264f8",
   "metadata": {},
   "source": [
    "    - Accurate data\n",
    "    - Have the ability to compare graphs with each other\n",
    "    - Visualise data with pandas / MatPlotLib\n",
    "\n"
   ]
  },
  {
   "cell_type": "markdown",
   "id": "136459eb",
   "metadata": {},
   "source": [
    "- <h3> Nonfunctional Requirements<h3>"
   ]
  },
  {
   "cell_type": "markdown",
   "id": "aecfd2f6",
   "metadata": {},
   "source": [
    "    - Data Needs to be Easy to Understand\n",
    "    - Graphs should be cleary visualised\n",
    "    - The user interface should be easy to use\n",
    "    - User experience should be toleratable"
   ]
  },
  {
   "cell_type": "markdown",
   "id": "56e3ac5c",
   "metadata": {},
   "source": [
    "<h2>Use Case<h2>"
   ]
  },
  {
   "cell_type": "markdown",
   "id": "59363053",
   "metadata": {},
   "source": [
    "<h3> Aim: <h3>"
   ]
  },
  {
   "cell_type": "markdown",
   "id": "2401662e",
   "metadata": {},
   "source": [
    "\n",
    "- To let the user interact with data involving crime rates and inflation to create a conclusion.\n",
    "\n"
   ]
  },
  {
   "cell_type": "markdown",
   "id": "53163eac",
   "metadata": {},
   "source": [
    "<h3>Prerequisites<h3>"
   ]
  },
  {
   "cell_type": "markdown",
   "id": "35747d7a",
   "metadata": {},
   "source": [
    "- The two datasets of inflation and crime rates are expected to be already loaded into the proccess to visualise.\n",
    "- The user is expected to have access to the data visualisation/ system processes and also access to the data and graphs.\n",
    "- all files such as Jupyter Notebook or python required to run proccesses are expected to be installed"
   ]
  },
  {
   "cell_type": "markdown",
   "id": "494de795",
   "metadata": {},
   "source": [
    "<h3> Expected Proccess <h3>"
   ]
  },
  {
   "cell_type": "markdown",
   "id": "f18a4cc4",
   "metadata": {},
   "source": [
    "1. User downloads and opens program or file to run in vs code or other stage.\n",
    "\n",
    "2. User is granted the ability to view each data set in the form of raw data or visualised data in the form of graphs or tables.\n",
    "\n",
    "3. User can travel through data sets and compare each set by \n",
    "\n",
    "        - Filtering by date\n",
    "\n",
    "        - Inflation rate\n",
    "\n",
    "        - Crime rate\n",
    "\n",
    "        - Searching up specific values.\n",
    "    \n",
    "4. User can update data values if incorrect which is highly unlikely but could affect and skew results."
   ]
  },
  {
   "cell_type": "markdown",
   "id": "080090d8",
   "metadata": {},
   "source": [
    "<h3>Expected Output<h3>"
   ]
  },
  {
   "cell_type": "markdown",
   "id": "1255772d",
   "metadata": {},
   "source": [
    "- User has viewed and interacted with data system <br>\n",
    "        "
   ]
  },
  {
   "cell_type": "markdown",
   "id": "07b3ddef",
   "metadata": {},
   "source": [
    "    - Using given UI formations and has had an easy or unirratable time with usage"
   ]
  },
  {
   "cell_type": "markdown",
   "id": "497b6c1f",
   "metadata": {},
   "source": [
    "- User has made conclusions on the connection of Inflation and Crime rates<br>\n",
    "       "
   ]
  },
  {
   "cell_type": "markdown",
   "id": "52c4bd43",
   "metadata": {},
   "source": [
    "    - User has made accurate deductions based off data"
   ]
  },
  {
   "cell_type": "markdown",
   "id": "cd7de09e",
   "metadata": {},
   "source": [
    "- User has compared both datasets to each other by viewing or merging<br>\n",
    "        "
   ]
  },
  {
   "cell_type": "markdown",
   "id": "31315786",
   "metadata": {},
   "source": [
    "    - User has correctly viewed the data and hasn't made any miscomparations\n"
   ]
  },
  {
   "cell_type": "markdown",
   "id": "c08cdcfc",
   "metadata": {},
   "source": [
    "- Any incorrect data has been corrected by user<br>\n",
    "        "
   ]
  },
  {
   "cell_type": "markdown",
   "id": "c206affb",
   "metadata": {},
   "source": [
    "    - User hasn't incorrectly \"fixed\" data to worsen the dataset\n"
   ]
  },
  {
   "cell_type": "markdown",
   "id": "80633c78",
   "metadata": {},
   "source": [
    "- Data remains public and system usable for further analysis<br>\n",
    "        "
   ]
  },
  {
   "cell_type": "markdown",
   "id": "2d13010a",
   "metadata": {},
   "source": [
    "    - Data set doesn't get taken down by public systems unless prompted"
   ]
  },
  {
   "cell_type": "markdown",
   "id": "4c3092cb",
   "metadata": {},
   "source": [
    "---"
   ]
  },
  {
   "cell_type": "markdown",
   "id": "1803e89f",
   "metadata": {},
   "source": [
    "<h2>Research<h2>"
   ]
  },
  {
   "cell_type": "markdown",
   "id": "71b15236",
   "metadata": {},
   "source": [
    "- Financial crime is a last resort to the cost of living increasing past average wages. -\n",
    "https://www.news.com.au/finance/money/costs/australians-resorting-to-petty-crime-in-a-desperate-sign-of-cost-of-living-crisis/news-story/3d63caa4bdda7e731eaf65f158a9fcee\n",
    "\n"
   ]
  },
  {
   "cell_type": "markdown",
   "id": "cb0262b7",
   "metadata": {},
   "source": [
    "- The amount of types of financial crime and information about it. - https://www.aic.gov.au/subject/financial-crime"
   ]
  },
  {
   "cell_type": "markdown",
   "id": "492e5a67",
   "metadata": {},
   "source": [
    "- Correlation between crime and inflation. - https://pinkerton.com/our-insights/blog/inflation-and-crime"
   ]
  },
  {
   "cell_type": "markdown",
   "id": "c8c40f7f",
   "metadata": {},
   "source": [
    "- What is inflation. - https://www.investopedia.com/terms/i/inflation.asp"
   ]
  },
  {
   "cell_type": "markdown",
   "id": "955b04f0",
   "metadata": {},
   "source": [
    "- Rent prices in gosford. - https://www.realestate.com.au/nsw/gosford-2250/"
   ]
  },
  {
   "cell_type": "markdown",
   "id": "be3399ec",
   "metadata": {},
   "source": [
    "- Wages and work years. -https://www.abs.gov.au/statistics/labour/earnings-and-working-conditions/employee-earnings-and-hours-australia/latest-release"
   ]
  },
  {
   "cell_type": "markdown",
   "id": "7c83da15",
   "metadata": {},
   "source": [
    "<h2> SEE-I Paragraph<h2>"
   ]
  },
  {
   "cell_type": "markdown",
   "id": "1c33f885",
   "metadata": {},
   "source": [
    "> Inflation has had a direct impact on crime rates in Australia, whereas the years have gone by, crime rates correlating to finance have also increased. Inflation has increased household prices by 2.1% over the past 9 years.\n",
    "> \n",
    "> \n",
    "> \n",
    "> Inflation is the gradual loss of monetary value of money, making prices of goods and services higher whilst also keeping wages the same. This in turn reduces living conditions where households aren't able to support their living conditions or housing prices, with the lower classes getting what was originally a stable housing plan, turned into an unlivable crisis in which costs such as healthcare or shelter need to be reduced to live in general. With the prices of essential goods getting higher other factors for living are needing to be sacrificed in order to compensate.\n",
    "> \n",
    "> \n",
    "> \n",
    "> For example a couple with a stable job at an average company makes at least \\\\$20 per hour. With a weekly time of 38 hours with a 220 day workday would leave them with a \\\\$33,440 salary (After tax). This would just be enough for living conditions with rent being around \\\\$22,880 this would leave them with around \\\\$10,500. If the average weekly essential goods cost around \\\\$200 they would only have a few dollars left for recreational spending. If the prices for most of those goods were to go up through inflation the cost of essential goods would cross the rant prices, leading the worker to bankruptcy. This would lead to many people having no other choice than to resort to financial crime to fulfil their essential needs.\n",
    "> \n",
    "> \n",
    "> \n",
    "> Lets say you had a stable flow of water into a fish tank,clean water comes in dirty water comes out, if this is a system where the water coming in and the waste being produced is the same the system would work but if you added more fish but not more input water, the dirty water would linger and would take longer to be filtered. This reflects upon the fact that most people are at their maximum output of water and the increased price of essential goods can make the water dirty too fast for the filtered water to catch up. Leading to both the fish and the person's life being polluted with no conventional way out.\n",
    "> \n",
    "> \n",
    "> \n",
    "> With this crisis many lives are at stake for both people in the cycle and out of it. The correlation between crime and inflation is heavily studied to find a solution to the crippling lives of the unlivable prices, which can tell that inflation does have a direct negative impact on crime rates related to finance.\n",
    "> \n",
    "> \n",
    "> \n",
    "> "
   ]
  },
  {
   "cell_type": "markdown",
   "id": "973f0967",
   "metadata": {},
   "source": [
    "---"
   ]
  },
  {
   "cell_type": "markdown",
   "id": "959440cb",
   "metadata": {},
   "source": [
    "<h2>Data Dictionary<h2>"
   ]
  },
  {
   "cell_type": "markdown",
   "id": "6540d90f",
   "metadata": {},
   "source": [
    "|               Field               | Datatype | Format for Display |                                         Description                                         | Example | Validation                                                     |\n",
    "|:---------------------------------:|----------|--------------------|:-------------------------------------------------------------------------------------------:|---------|----------------------------------------------------------------|\n",
    "|               Quarter             |   Object |        XXX-NN      | The quarter of  year that the data was recorded/ is set in                                  | Jan-12  | Must be a word with any amount of letters  followed by numbers |\n",
    "|  Change from previous Quarter (%) |   Float  |         N.N        | How much the inflation increased from the starting data point                               | 0.7     | Must be a decimal  number to 1 decimal places                  |\n",
    "|          Annual Change (%)        |   Float  |         N.N        | How much the inflation increased from the last year                                         | 1.9     | Must be a decimal  number to 1 decimal places                  |\n",
    "|                Years              |   Object |       NNNN-NN      | The year the data is set in                                                                 | 2020-21 | Must be a number with any amount of characters.                |\n",
    "|           Crime(%)/House          |   Float  |         NN.N       | The percentage of households  that have reported financial  crime from the total households | 12.4    | Must be a decimal number to 2 decimal  places                  |"
   ]
  },
  {
   "cell_type": "markdown",
   "id": "90fda61a",
   "metadata": {},
   "source": [
    "---"
   ]
  },
  {
   "cell_type": "markdown",
   "id": "285b7639",
   "metadata": {},
   "source": [
    "<h2>Evaluation<h2>"
   ]
  },
  {
   "cell_type": "markdown",
   "id": "22fc1c69",
   "metadata": {},
   "source": [
    ">  With the slow increase of Inflation and the slow decrease of crime rates the graph showed no correlation between crime and inflation.\n",
    "> \n",
    "> \n",
    "> \n",
    ">  Inflation has a varied rate of increase as it grew exponentially around 2022 while it tapered off at the end of 2024. This contrasted crime rates that showed a small divot from 2022. With these contrasting peaks, the data set would be implied to have a negative correlation but the amount of randomness when it comes to the differences between inflation and crime it would likely imply that the data has no correlation or that there isn't enough information to make a conclusion. \n",
    "> \n",
    "> \n",
    "> \n",
    ">  For example during 2020, crime rates and inflation descended at around the same magnitude, while in 2021 they seemed to reverse, where crime rates kept decreasing but Inflation started to increase. This leads to an unnatural correlation. Something else to add is that the two major peaks (2017 for crime rates and 2022 for Inflation) are both 5 years apart, if you go a bit  further where there is a smaller bump, it also follows the 5 year gap (2019 and 2024 ). \n",
    "> \n",
    "> \n",
    "> \n",
    ">  I believe that this implies a delayed correlation but there isn't enough information such as previous years to confirm. The likely outcome of this analysis is going towards no correlation but with an improved dataset and more precise data (referring to financial crime instead of a general aspect) the analysis would come to a different standing. There isnt a clear correlation with the two datasets."
   ]
  },
  {
   "cell_type": "markdown",
   "id": "a662a0f3",
   "metadata": {},
   "source": [
    "---"
   ]
  },
  {
   "cell_type": "markdown",
   "id": "080400d7",
   "metadata": {},
   "source": [
    "<h2>P<h2>"
   ]
  },
  {
   "cell_type": "markdown",
   "id": "60cb7fe2",
   "metadata": {},
   "source": [
    "    - Clear code with readable and understandable comments\n",
    "    - Easy to use User interface\n",
    "    - Fast procceses and clear data\n",
    "    - Accurate and relevant data\n",
    "    - Easy to navigate graphs\n",
    "    - Understandable and correctly labeled graphs"
   ]
  },
  {
   "cell_type": "markdown",
   "id": "89bd30e2",
   "metadata": {},
   "source": [
    "<h2>M<h2>"
   ]
  },
  {
   "cell_type": "markdown",
   "id": "96b3cbcd",
   "metadata": {},
   "source": [
    "    - Unclear timing with inputs aand annoying security feature\n",
    "    - Long lines of prints stated at once making it hard to read\n",
    "    - Unnecesary import functions\n",
    "    - No ways in editing data without remotely getting the file\n",
    "    - No way to view both graphs seperatly at the same time (in 2 different tabs)\n",
    "    - Filters were very limited"
   ]
  },
  {
   "cell_type": "markdown",
   "id": "144841d5",
   "metadata": {},
   "source": [
    "<h2>I<h2>"
   ]
  },
  {
   "cell_type": "markdown",
   "id": "ad23531d",
   "metadata": {},
   "source": [
    "    - Overall the code was nicely formatted with clear and understandable data but more work could be put on making the user experience more enjoyable and adding more features when it comes to data analysis such as more precise filters or better timing within the UI"
   ]
  },
  {
   "cell_type": "markdown",
   "id": "b610eced",
   "metadata": {},
   "source": [
    "---\n"
   ]
  },
  {
   "cell_type": "markdown",
   "id": "3ace8167",
   "metadata": {},
   "source": [
    "> My Final Program was heavily successful with its required criteria and its accessibility to legal requirements. As mentioned in my requirements outline, the final product did receive accurate data, processed from within the government's data office which also went across the past 10 years which would mean that it can still be used for conclusions due to its modernised data. \n",
    "> \n",
    "> It also contained a comparison data graph that lined up both the dates to correctly compare data. This worked very well as all the dates lined up and it was easy to understand conclusions with the visualisation process. With this the matplotlib sector as well as the pandas sector has been correctly formed with extensive lines of code for intricate details such as the combined graph or the security system that only let people with access use the program which was also an added benefit to safety.\n",
    "> \n",
    "> The graphs and data were both easy to read and went especially well with the UI where I utilised the time.sleep parameter to slow down  the output from the program. I could have made a more interactable UI with buttons using TKinker and cleaned up the timing of the buttons for a more relaxed feel but the current program seems to hold up pretty well for UX.\n",
    "> \n",
    "> One area I very much lacked in was github commits, I did not really put any summaries or descriptions and let it be the default, so information to outside viewers would be unclear. I managed to use my time up wisely and spread most of it across a large time period, working on the code across a few weeks. I think the program fared very positively against the overall criteria and would greatly benefit analysts with data analysis.\n"
   ]
  }
 ],
 "metadata": {
  "language_info": {
   "name": "python"
  }
 },
 "nbformat": 4,
 "nbformat_minor": 5
}
