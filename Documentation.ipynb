{
 "cells": [
  {
   "cell_type": "markdown",
   "id": "5c7768a1",
   "metadata": {},
   "source": [
    "# Project Development"
   ]
  },
  {
   "cell_type": "markdown",
   "id": "640f8e09",
   "metadata": {},
   "source": [
    "## Societal Issue:"
   ]
  },
  {
   "cell_type": "markdown",
   "id": "10dfd119",
   "metadata": {},
   "source": [
    "Inflation among common objects is bad enough but the prices of general living has gone up to unpayable standards, this includes basics such as gasoline or other goods to larger problems within society such as housing prices or the price of food. This could be combatted with increase wages and salaries but the average salary has barely gone up from the past"
   ]
  }
 ],
 "metadata": {
  "language_info": {
   "name": "python"
  }
 },
 "nbformat": 4,
 "nbformat_minor": 5
}
